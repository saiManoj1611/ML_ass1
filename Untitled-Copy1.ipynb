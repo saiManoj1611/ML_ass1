{
 "cells": [
  {
   "cell_type": "code",
   "execution_count": null,
   "id": "b1c45508",
   "metadata": {},
   "outputs": [],
   "source": [
    "#     # theta generation\n",
    "    mu, sigma = 0, 1 \n",
    "    theta = np.random.normal(mu, sigma, k)\n",
    "    \n",
    "   \n",
    "    # x generation\n",
    "    mu2, sigma2 = 0, 2 \n",
    "    covariable = np.random.normal(mu2, sigma2, size=(n,k))\n",
    "    \n",
    "    # error generation\n",
    "    mu3, sigma3 = 0, math.sqrt(0.1) \n",
    "    error = np.random.normal(mu3, sigma3, n)\n",
    "    \n",
    "    # data generation (tall and thin matrix or short and fat matrix)\n",
    "    x=np.zeros(shape=(n,k))\n",
    "    y=np.zeros(shape=(n))\n",
    "    for i in range(n):\n",
    "        for j in range(k):\n",
    "            x[i,j] = covariable[i,j]\n",
    "\n",
    "    for i in range(n):\n",
    "        y[i]=np.dot(theta,np.transpose(covariable[i]) + error[i])\n",
    "    \n",
    "    # finding theta cap\n",
    "    q=np.dot(np.transpose(x),x)\n",
    "    r=np.dot(np.transpose(x),y)\n",
    "\n",
    "    det = np.linalg.det(q)\n",
    "    rank = int(np.linalg.matrix_rank(q))\n",
    "\n",
    "    if rank < k:\n",
    "        print(\"ridge regression\")\n",
    "        lamb=10\n",
    "        b = (lamb)*(lamb)*(np.identity(k, dtype = float))\n",
    "        c=b+q\n",
    "        d=np.linalg.inv(c)\n",
    "        pred_theta=np.dot(d,r)\n",
    "       \n",
    "    else:\n",
    "        print(\"normal regression\")\n",
    "        s=np.linalg.inv(q)\n",
    "        pred_theta=np.dot(s,r)\n",
    "        \n",
    "    \n",
    "   \n",
    "\n",
    "\n",
    "\n",
    "    "
   ]
  }
 ],
 "metadata": {
  "kernelspec": {
   "display_name": "Python 3",
   "language": "python",
   "name": "python3"
  },
  "language_info": {
   "codemirror_mode": {
    "name": "ipython",
    "version": 3
   },
   "file_extension": ".py",
   "mimetype": "text/x-python",
   "name": "python",
   "nbconvert_exporter": "python",
   "pygments_lexer": "ipython3",
   "version": "3.6.13"
  }
 },
 "nbformat": 4,
 "nbformat_minor": 5
}
