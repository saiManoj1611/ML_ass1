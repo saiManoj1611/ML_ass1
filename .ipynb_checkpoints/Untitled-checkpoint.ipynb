{
 "cells": [
  {
   "cell_type": "code",
   "execution_count": 38,
   "id": "bfd0f4ed",
   "metadata": {},
   "outputs": [],
   "source": [
    "import numpy as np\n",
    "import matplotlib.pyplot as plt"
   ]
  },
  {
   "cell_type": "code",
   "execution_count": 39,
   "id": "79ff7b43",
   "metadata": {},
   "outputs": [],
   "source": [
    "k = 2\n",
    "n = 150"
   ]
  },
  {
   "cell_type": "code",
   "execution_count": 40,
   "id": "5b967a6e",
   "metadata": {},
   "outputs": [],
   "source": [
    "\n",
    "\n",
    "# theta generation\n",
    "mu, sigma = 0, 1 # mean and standard deviation\n",
    "theta = np.random.normal(mu, sigma, k)\n",
    "\n"
   ]
  },
  {
   "cell_type": "code",
   "execution_count": 41,
   "id": "21465357",
   "metadata": {},
   "outputs": [
    {
     "name": "stdout",
     "output_type": "stream",
     "text": [
      "[-0.61387461  0.49264968]\n",
      "-0.6138746051982978\n",
      "0.4926496827108975\n"
     ]
    }
   ],
   "source": [
    "print(theta)\n",
    "print(theta[0])\n",
    "print(theta[1])\n"
   ]
  },
  {
   "cell_type": "code",
   "execution_count": 42,
   "id": "0a353f9e",
   "metadata": {},
   "outputs": [
    {
     "data": {
      "image/png": "[encoded data removed]",
      "text/plain": [
       "<Figure size 432x288 with 1 Axes>"
      ]
     },
     "metadata": {
      "needs_background": "light"
     },
     "output_type": "display_data"
    }
   ],
   "source": [
    "#plottinng our distribution\n",
    "\n",
    "count, bins, ignored = plt.hist(s, 30, density=True)\n",
    "plt.plot(bins, 1/(sigma * np.sqrt(2 * np.pi)) *\n",
    "               np.exp( - (bins - mu)**2 / (2 * sigma**2) ),\n",
    "         linewidth=2, color='r')\n",
    "plt.show()"
   ]
  },
  {
   "cell_type": "code",
   "execution_count": 43,
   "id": "a4443dd7",
   "metadata": {},
   "outputs": [],
   "source": [
    "# x generation\n",
    "mu2, sigma2 = 0, 4 # mean and standard deviation\n",
    "covariable = np.random.normal(mu2, sigma2, size=(n,k))\n",
    "\n"
   ]
  },
  {
   "cell_type": "code",
   "execution_count": 44,
   "id": "c3d8c756",
   "metadata": {},
   "outputs": [
    {
     "name": "stdout",
     "output_type": "stream",
     "text": [
      "[[  2.71075532  -7.2782054 ]\n",
      " [  7.41891538  -6.22159456]\n",
      " [ -6.07541961  -1.84784301]\n",
      " [ -2.07982196  -3.05182269]\n",
      " [  6.20140979  -0.81226168]\n",
      " [  1.68724386  -5.65200371]\n",
      " [  0.27599325  -1.99761069]\n",
      " [ -0.39682724  -0.99692657]\n",
      " [ -1.00179932   7.25407835]\n",
      " [  1.0542358    2.39243266]\n",
      " [ -1.3809828   -0.80186117]\n",
      " [ -6.00241985  -2.33331842]\n",
      " [ -1.22055056  -3.76547943]\n",
      " [  6.73079624  -0.58125086]\n",
      " [ -3.64691409  -3.84704638]\n",
      " [ -3.80507645  -6.36977458]\n",
      " [ -6.81053092  -4.373851  ]\n",
      " [ -1.43250285   3.28667828]\n",
      " [  5.07223555  -2.83964777]\n",
      " [  6.42056302  -1.47650196]\n",
      " [ -1.76792055  -0.90918383]\n",
      " [  2.32992864   3.48186303]\n",
      " [ -6.86528255   5.26370687]\n",
      " [ -0.09220893   0.15250311]\n",
      " [  2.45884152   6.00083354]\n",
      " [ -0.48925651   2.65241557]\n",
      " [ -0.61561105  -2.67922232]\n",
      " [  0.92902781  -2.45355737]\n",
      " [ -5.29293687   4.40364921]\n",
      " [ -3.80417318  -4.46458779]\n",
      " [  2.54418472   5.06159559]\n",
      " [  2.01394127  -4.2737104 ]\n",
      " [ -3.98572409   2.77344191]\n",
      " [  7.87589081  -0.87573484]\n",
      " [  2.48676528   8.84686392]\n",
      " [  1.75245261  -1.45701858]\n",
      " [  4.69111774   1.54951709]\n",
      " [ -5.51845741  -1.8679484 ]\n",
      " [  2.51651955   5.4365927 ]\n",
      " [  0.59036676  -0.82455189]\n",
      " [  0.92645741   0.35446324]\n",
      " [  1.03473399   3.79747552]\n",
      " [ -6.97115147  -6.2074058 ]\n",
      " [ -1.16115039  -9.32638511]\n",
      " [  1.75245806  -4.82409766]\n",
      " [ -2.64028838   1.93530382]\n",
      " [  4.18704994  -0.63078352]\n",
      " [ -7.40968344   4.00518263]\n",
      " [ -5.76881175  -2.55049885]\n",
      " [  8.4154602    0.95036125]\n",
      " [  2.8912765   -2.96768543]\n",
      " [  5.77082633   4.03124008]\n",
      " [ -3.43913316   1.28470934]\n",
      " [  3.68456771  -3.7625427 ]\n",
      " [ -7.56074308  -7.42781127]\n",
      " [  7.41629013   2.51042153]\n",
      " [  3.18482524   3.66126312]\n",
      " [ -2.34327511  -4.54422633]\n",
      " [  8.70794106  -3.94897377]\n",
      " [  2.43474478   4.13285138]\n",
      " [  0.30116581  -1.96925548]\n",
      " [  1.21991281   6.40117714]\n",
      " [ -2.79295182  -3.65324572]\n",
      " [ -2.9908897   -4.61815477]\n",
      " [ -4.71207978   4.85749634]\n",
      " [  0.23677799   1.30507648]\n",
      " [  2.59171186   2.27469789]\n",
      " [  1.90071611   5.66726421]\n",
      " [  0.54428051  -8.54398182]\n",
      " [  3.29578974  -3.31445945]\n",
      " [  1.98897606  -7.45629223]\n",
      " [ -7.80341072   0.25313197]\n",
      " [  3.33177935  -3.64520727]\n",
      " [  2.48423273  -2.27002587]\n",
      " [ -1.70858398   1.50131543]\n",
      " [ -2.55989563   0.78718567]\n",
      " [  4.03640123   3.47329279]\n",
      " [  0.62488321  -1.08344582]\n",
      " [ -3.2653158   -4.1908144 ]\n",
      " [  2.39271427   1.20839743]\n",
      " [ -6.43430573  -1.30724785]\n",
      " [  1.97700395   1.39675833]\n",
      " [  4.64104111   3.61644013]\n",
      " [  3.60211199  -0.79270431]\n",
      " [  1.75032784   2.38320488]\n",
      " [ -2.38281678   1.84727576]\n",
      " [  0.63104214   0.28462775]\n",
      " [ -1.1091884   -4.60541343]\n",
      " [  2.68109931   2.85964864]\n",
      " [  3.42040824   5.66404843]\n",
      " [ -2.12692371  -4.11188612]\n",
      " [ -1.47308123  -1.22349409]\n",
      " [ -8.08791119  -3.16289573]\n",
      " [  5.78731634  -3.06177251]\n",
      " [  2.55216322   1.03986251]\n",
      " [  5.12210682   4.45509294]\n",
      " [  1.32880843   2.87026873]\n",
      " [  4.62663202 -10.5219352 ]\n",
      " [ -4.50594885   1.60148504]\n",
      " [ -2.14177294  -6.99616903]\n",
      " [ -2.29602892  -4.63408992]\n",
      " [ -3.5199484   -2.8401009 ]\n",
      " [ -1.75018712   0.1987312 ]\n",
      " [ -2.99516156   1.10969133]\n",
      " [  2.95315389  -1.67581156]\n",
      " [  7.83255204  -9.64165383]\n",
      " [ -2.50224846  -5.19765856]\n",
      " [ -2.24806153   2.64195187]\n",
      " [ -3.44306108  -0.83457441]\n",
      " [  0.40121878   1.72955606]\n",
      " [ -3.40427638   4.83683999]\n",
      " [ -0.0724412   -2.18174465]\n",
      " [  0.80493667   0.17428008]\n",
      " [ -0.40535427  -0.15084943]\n",
      " [  8.37903094  -2.91566774]\n",
      " [ -3.7129947    0.35145978]\n",
      " [  2.00339913   0.66147938]\n",
      " [  2.95556012   8.12550683]\n",
      " [ -1.27583396  -3.5491527 ]\n",
      " [  2.92393378   2.30780163]\n",
      " [  2.1519387   -2.00808105]\n",
      " [  6.84482979   3.32135597]\n",
      " [  4.6799424    2.22897693]\n",
      " [ -1.72861501   2.49553723]\n",
      " [ -4.94390763   4.87884579]\n",
      " [  2.75910007   8.62028022]\n",
      " [  0.58774061   3.5009419 ]\n",
      " [ -9.52287569  -2.56804619]\n",
      " [ -7.47704705   7.99187898]\n",
      " [ -0.72494282   1.61477292]\n",
      " [ -0.98698994  -0.76977834]\n",
      " [ -6.21988188  -6.88284576]\n",
      " [ -0.61953986   8.12881072]\n",
      " [  0.4423329   -0.18848212]\n",
      " [ -2.92365033   2.70492475]\n",
      " [  5.27194691   3.32249757]\n",
      " [ -4.36867865  -0.60601654]\n",
      " [ -7.14143294  -3.23474199]\n",
      " [ -6.79329427  -2.80821229]\n",
      " [ -1.80322107  -2.36513174]\n",
      " [ -3.45512732  -5.07136356]\n",
      " [  3.89995496   4.11360946]\n",
      " [-13.07036101   3.13450419]\n",
      " [  0.88027953   2.39473152]\n",
      " [ -3.39446511  -0.63976068]\n",
      " [ -2.79748432  -1.25840407]\n",
      " [  2.07855873  -2.08353823]\n",
      " [ -2.25926823  -2.93075824]\n",
      " [  5.21499777  -6.73344706]\n",
      " [  6.07666483  -1.50627476]]\n"
     ]
    }
   ],
   "source": [
    "print(covariable)"
   ]
  },
  {
   "cell_type": "code",
   "execution_count": 45,
   "id": "d38194d4",
   "metadata": {},
   "outputs": [],
   "source": [
    "# error generation\n",
    "\n",
    "mu3, sigma3 = 0, 0.1 # mean and standard deviation\n",
    "error = np.random.normal(mu3, sigma3, n)\n",
    "\n"
   ]
  },
  {
   "cell_type": "code",
   "execution_count": null,
   "id": "d8b928a2",
   "metadata": {},
   "outputs": [],
   "source": [
    "a=np.dot(theta,np.transpose(covariable[i]) + error[i])"
   ]
  },
  {
   "cell_type": "code",
   "execution_count": 55,
   "id": "53669378",
   "metadata": {},
   "outputs": [
    {
     "ename": "AttributeError",
     "evalue": "module 'numpy' has no attribute 'tranpose'",
     "output_type": "error",
     "traceback": [
      "\u001b[0;31m---------------------------------------------------------------------------\u001b[0m",
      "\u001b[0;31mAttributeError\u001b[0m                            Traceback (most recent call last)",
      "\u001b[0;32m<ipython-input-55-0aa32b5c4474>\u001b[0m in \u001b[0;36m<module>\u001b[0;34m\u001b[0m\n\u001b[1;32m      4\u001b[0m \u001b[0mdata\u001b[0m\u001b[0;34m=\u001b[0m\u001b[0mnp\u001b[0m\u001b[0;34m.\u001b[0m\u001b[0mzeros\u001b[0m\u001b[0;34m(\u001b[0m\u001b[0mshape\u001b[0m\u001b[0;34m=\u001b[0m\u001b[0;34m(\u001b[0m\u001b[0mn\u001b[0m\u001b[0;34m,\u001b[0m\u001b[0mk\u001b[0m\u001b[0;34m+\u001b[0m\u001b[0;36m1\u001b[0m\u001b[0;34m)\u001b[0m\u001b[0;34m)\u001b[0m\u001b[0;34m\u001b[0m\u001b[0;34m\u001b[0m\u001b[0m\n\u001b[1;32m      5\u001b[0m \u001b[0;32mfor\u001b[0m \u001b[0mi\u001b[0m \u001b[0;32min\u001b[0m \u001b[0mrange\u001b[0m\u001b[0;34m(\u001b[0m\u001b[0mn\u001b[0m\u001b[0;34m)\u001b[0m\u001b[0;34m:\u001b[0m\u001b[0;34m\u001b[0m\u001b[0;34m\u001b[0m\u001b[0m\n\u001b[0;32m----> 6\u001b[0;31m     \u001b[0mdata\u001b[0m\u001b[0;34m[\u001b[0m\u001b[0mi\u001b[0m\u001b[0;34m]\u001b[0m\u001b[0;34m=\u001b[0m\u001b[0;34m[\u001b[0m \u001b[0mcovariable\u001b[0m\u001b[0;34m[\u001b[0m\u001b[0mi\u001b[0m\u001b[0;34m]\u001b[0m \u001b[0;34m,\u001b[0m \u001b[0mnp\u001b[0m\u001b[0;34m.\u001b[0m\u001b[0mdot\u001b[0m\u001b[0;34m(\u001b[0m\u001b[0mtheta\u001b[0m\u001b[0;34m,\u001b[0m\u001b[0mnp\u001b[0m\u001b[0;34m.\u001b[0m\u001b[0mtranpose\u001b[0m\u001b[0;34m(\u001b[0m\u001b[0mcovariable\u001b[0m\u001b[0;34m[\u001b[0m\u001b[0mi\u001b[0m\u001b[0;34m]\u001b[0m\u001b[0;34m)\u001b[0m \u001b[0;34m+\u001b[0m \u001b[0merror\u001b[0m\u001b[0;34m[\u001b[0m\u001b[0mi\u001b[0m\u001b[0;34m]\u001b[0m\u001b[0;34m)\u001b[0m \u001b[0;34m]\u001b[0m\u001b[0;34m\u001b[0m\u001b[0;34m\u001b[0m\u001b[0m\n\u001b[0m\u001b[1;32m      7\u001b[0m \u001b[0;34m\u001b[0m\u001b[0m\n\u001b[1;32m      8\u001b[0m \u001b[0;34m\u001b[0m\u001b[0m\n",
      "\u001b[0;31mAttributeError\u001b[0m: module 'numpy' has no attribute 'tranpose'"
     ]
    }
   ],
   "source": [
    "# data generation (tall and thin matrix)\n",
    "\n",
    "\n",
    "data=np.zeros(shape=(n,k+1))\n",
    "for i in range(n):\n",
    "    data[i]=[ covariable[i] , np.dot(theta,np.transpose(covariable[i]) + error[i]) ]\n",
    "    \n",
    "\n",
    "print(data)"
   ]
  },
  {
   "cell_type": "code",
   "execution_count": null,
   "id": "1fd74511",
   "metadata": {},
   "outputs": [],
   "source": []
  }
 ],
 "metadata": {
  "kernelspec": {
   "display_name": "Python 3",
   "language": "python",
   "name": "python3"
  },
  "language_info": {
   "codemirror_mode": {
    "name": "ipython",
    "version": 3
   },
   "file_extension": ".py",
   "mimetype": "text/x-python",
   "name": "python",
   "nbconvert_exporter": "python",
   "pygments_lexer": "ipython3",
   "version": "3.6.13"
  }
 },
 "nbformat": 4,
 "nbformat_minor": 5
}
