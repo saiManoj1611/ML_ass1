{
 "cells": [
  {
   "cell_type": "code",
   "execution_count": 341,
   "id": "03e135e4",
   "metadata": {},
   "outputs": [],
   "source": [
    "import numpy as np\n",
    "from sklearn.metrics import r2_score\n",
    "import matplotlib.pyplot as plt\n",
    "import math\n"
   ]
  },
  {
   "cell_type": "code",
   "execution_count": 342,
   "id": "96466182",
   "metadata": {},
   "outputs": [],
   "source": [
    "k = 2\n",
    "n = 10000"
   ]
  },
  {
   "cell_type": "code",
   "execution_count": 272,
   "id": "f7c801e1",
   "metadata": {},
   "outputs": [
    {
     "name": "stdout",
     "output_type": "stream",
     "text": [
      "[ 0.36864366 -0.65583788]\n"
     ]
    }
   ],
   "source": [
    "\n",
    "# theta generation\n",
    "mu, sigma = 0, 1 # mean and standard deviation\n",
    "theta = np.random.normal(mu, sigma, k)\n",
    "print(theta)\n"
   ]
  },
  {
   "cell_type": "code",
   "execution_count": 273,
   "id": "216dd2c8",
   "metadata": {},
   "outputs": [],
   "source": [
    "# x generation\n",
    "mu2, sigma2 = 0, 2 # mean and standard deviation\n",
    "covariable = np.random.normal(mu2, sigma2, size=(n,k))\n",
    "\n"
   ]
  },
  {
   "cell_type": "code",
   "execution_count": 274,
   "id": "7f01d7a5",
   "metadata": {},
   "outputs": [],
   "source": [
    "# error generation\n",
    "mu3, sigma3 = 0, math.sqrt(0.1) # mean and standard deviation\n",
    "error = np.random.normal(mu3, sigma3, n)\n",
    "\n"
   ]
  },
  {
   "cell_type": "code",
   "execution_count": 196,
   "id": "c35bd206",
   "metadata": {},
   "outputs": [],
   "source": [
    "# data generation (tall and thin matrix or short and fat matrix)\n",
    "x=np.zeros(shape=(n,k))\n",
    "y=np.zeros(shape=(n))\n",
    "for i in range(n):\n",
    "    for j in range(k):\n",
    "        x[i,j] = covariable[i,j]\n",
    "\n",
    "for i in range(n):\n",
    "    y[i]=np.dot(theta,np.transpose(covariable[i]) + error[i])\n",
    "\n"
   ]
  },
  {
   "cell_type": "code",
   "execution_count": 197,
   "id": "8419f49d",
   "metadata": {},
   "outputs": [
    {
     "name": "stdout",
     "output_type": "stream",
     "text": [
      "normal regression\n",
      "[0.30818452 1.00767272]\n"
     ]
    }
   ],
   "source": [
    "# finding theta cap\n",
    "q=np.dot(np.transpose(x),x)\n",
    "r=np.dot(np.transpose(x),y)\n",
    "\n",
    "det = np.linalg.det(q)\n",
    "rank = int(np.linalg.matrix_rank(q))\n",
    "\n",
    "if rank < k:\n",
    "    print(\"Ridge regression\")\n",
    "    lamb=10\n",
    "    b = (lamb)*(lamb)*(np.identity(k, dtype = float))\n",
    "    c=b+q\n",
    "    d=np.linalg.inv(c)\n",
    "    pred_theta=np.dot(d,r)\n",
    "    print(pred_theta)\n",
    "else:\n",
    "    print(\"normal regression\")\n",
    "    s=np.linalg.inv(q)\n",
    "    pred_theta=np.dot(s,r)\n",
    "    print(pred_theta)\n"
   ]
  },
  {
   "cell_type": "code",
   "execution_count": 198,
   "id": "3fcf869f",
   "metadata": {},
   "outputs": [
    {
     "name": "stdout",
     "output_type": "stream",
     "text": [
      "0.0004929147437716242\n"
     ]
    }
   ],
   "source": [
    "#l2 norm\n",
    "\n",
    "print(np.linalg.norm(pred_theta-theta,2))\n"
   ]
  },
  {
   "cell_type": "code",
   "execution_count": 466,
   "id": "83e80e7e",
   "metadata": {},
   "outputs": [],
   "source": [
    "k=10"
   ]
  },
  {
   "cell_type": "code",
   "execution_count": 467,
   "id": "6ff7801e",
   "metadata": {},
   "outputs": [],
   "source": [
    "x_axis=[]\n",
    "y_axis=[]"
   ]
  },
  {
   "cell_type": "code",
   "execution_count": 468,
   "id": "4b1eb68d",
   "metadata": {},
   "outputs": [
    {
     "name": "stdout",
     "output_type": "stream",
     "text": [
      "normal regression\n",
      "normal regression\n",
      "normal regression\n",
      "normal regression\n",
      "normal regression\n",
      "normal regression\n",
      "normal regression\n",
      "normal regression\n",
      "normal regression\n",
      "normal regression\n",
      "normal regression\n",
      "normal regression\n",
      "normal regression\n",
      "normal regression\n",
      "normal regression\n",
      "normal regression\n",
      "normal regression\n",
      "normal regression\n",
      "normal regression\n",
      "normal regression\n"
     ]
    }
   ],
   "source": [
    "for n in range(10,30):\n",
    "    x_axis.append(n)\n",
    "    \n",
    "    # theta generation\n",
    "    mu, sigma = 0, 1 \n",
    "    theta = np.random.normal(mu, sigma, k)\n",
    "    \n",
    "   \n",
    "    # x generation\n",
    "    mu2, sigma2 = 0, 2 \n",
    "    covariable = np.random.normal(mu2, sigma2, size=(n,k))\n",
    "    \n",
    "    # error generation\n",
    "    mu3, sigma3 = 0, math.sqrt(0.1) \n",
    "    error = np.random.normal(mu3, sigma3, n)\n",
    "    \n",
    "    # data generation (tall and thin matrix or short and fat matrix)\n",
    "    x=np.zeros(shape=(n,k))\n",
    "    y=np.zeros(shape=(n))\n",
    "    for i in range(n):\n",
    "        for j in range(k):\n",
    "            x[i,j] = covariable[i,j]\n",
    "\n",
    "    for i in range(n):\n",
    "        y[i]=np.dot(theta,np.transpose(covariable[i]) + error[i])\n",
    "    \n",
    "    # finding theta cap\n",
    "    q=np.dot(np.transpose(x),x)\n",
    "    r=np.dot(np.transpose(x),y)\n",
    "\n",
    "    det = np.linalg.det(q)\n",
    "    rank = int(np.linalg.matrix_rank(q))\n",
    "\n",
    "    if rank < k:\n",
    "        print(\"ridge regression\")\n",
    "        lamb=10\n",
    "        b = (lamb)*(lamb)*(np.identity(k, dtype = float))\n",
    "        c=b+q\n",
    "        d=np.linalg.inv(c)\n",
    "        pred_theta=np.dot(d,r)\n",
    "        #print(pred_theta)\n",
    "    else:\n",
    "        print(\"normal regression\")\n",
    "        s=np.linalg.inv(q)\n",
    "        pred_theta=np.dot(s,r)\n",
    "        #print(pred_theta)\n",
    "    \n",
    "    y_axis.append(np.linalg.norm(pred_theta-theta,2))\n",
    "\n",
    "\n",
    "\n",
    "    "
   ]
  },
  {
   "cell_type": "code",
   "execution_count": null,
   "id": "1fb6c04f",
   "metadata": {
    "scrolled": true
   },
   "outputs": [],
   "source": []
  },
  {
   "cell_type": "code",
   "execution_count": 469,
   "id": "d5f6f696",
   "metadata": {
    "scrolled": true
   },
   "outputs": [],
   "source": [
    "# variation of l2 norm with varying number of sample\n",
    "#k=10, 20 to 500 , 50"
   ]
  },
  {
   "cell_type": "code",
   "execution_count": 470,
   "id": "4ec650bb",
   "metadata": {},
   "outputs": [
    {
     "data": {
      "text/plain": [
       "[<matplotlib.lines.Line2D at 0x7fde2b4a46d8>]"
      ]
     },
     "execution_count": 470,
     "metadata": {},
     "output_type": "execute_result"
    },
    {
     "data": {
      "image/png": "[encoded data removed]",
      "text/plain": [
       "<Figure size 432x288 with 1 Axes>"
      ]
     },
     "metadata": {
      "needs_background": "light"
     },
     "output_type": "display_data"
    }
   ],
   "source": [
    "plt.xlabel(\"Samples\")\n",
    "plt.ylabel(\"L2 Norm\")\n",
    "plt.plot(x_axis,y_axis)"
   ]
  },
  {
   "cell_type": "code",
   "execution_count": 463,
   "id": "23591e06",
   "metadata": {},
   "outputs": [],
   "source": [
    "k=20\n",
    "n=10\n",
    "x_axis=[]\n",
    "y_axis=[]"
   ]
  },
  {
   "cell_type": "code",
   "execution_count": 464,
   "id": "75a6cfd3",
   "metadata": {},
   "outputs": [
    {
     "name": "stdout",
     "output_type": "stream",
     "text": [
      "ridge regression\n",
      "ridge regression\n",
      "ridge regression\n",
      "ridge regression\n",
      "ridge regression\n",
      "ridge regression\n",
      "ridge regression\n",
      "ridge regression\n",
      "ridge regression\n",
      "ridge regression\n",
      "ridge regression\n",
      "ridge regression\n",
      "ridge regression\n",
      "ridge regression\n",
      "ridge regression\n",
      "ridge regression\n",
      "ridge regression\n",
      "ridge regression\n",
      "ridge regression\n",
      "ridge regression\n",
      "ridge regression\n",
      "ridge regression\n",
      "ridge regression\n",
      "ridge regression\n",
      "ridge regression\n",
      "ridge regression\n",
      "ridge regression\n",
      "ridge regression\n",
      "ridge regression\n",
      "ridge regression\n",
      "ridge regression\n",
      "ridge regression\n",
      "ridge regression\n",
      "ridge regression\n",
      "ridge regression\n",
      "ridge regression\n",
      "ridge regression\n",
      "ridge regression\n",
      "ridge regression\n",
      "ridge regression\n",
      "ridge regression\n",
      "ridge regression\n",
      "ridge regression\n",
      "ridge regression\n",
      "ridge regression\n",
      "ridge regression\n",
      "ridge regression\n",
      "ridge regression\n",
      "ridge regression\n",
      "ridge regression\n",
      "ridge regression\n",
      "ridge regression\n",
      "ridge regression\n",
      "ridge regression\n",
      "ridge regression\n",
      "ridge regression\n",
      "ridge regression\n",
      "ridge regression\n",
      "ridge regression\n",
      "ridge regression\n",
      "ridge regression\n",
      "ridge regression\n",
      "ridge regression\n",
      "ridge regression\n",
      "ridge regression\n",
      "ridge regression\n",
      "ridge regression\n",
      "ridge regression\n",
      "ridge regression\n",
      "ridge regression\n",
      "ridge regression\n",
      "ridge regression\n",
      "ridge regression\n",
      "ridge regression\n",
      "ridge regression\n",
      "ridge regression\n",
      "ridge regression\n",
      "ridge regression\n",
      "ridge regression\n",
      "ridge regression\n",
      "ridge regression\n",
      "ridge regression\n",
      "ridge regression\n",
      "ridge regression\n",
      "ridge regression\n",
      "ridge regression\n",
      "ridge regression\n",
      "ridge regression\n",
      "ridge regression\n",
      "ridge regression\n",
      "ridge regression\n",
      "ridge regression\n",
      "ridge regression\n",
      "ridge regression\n",
      "ridge regression\n",
      "ridge regression\n",
      "ridge regression\n",
      "ridge regression\n",
      "ridge regression\n"
     ]
    }
   ],
   "source": [
    "\n",
    "\n",
    "    \n",
    "    \n",
    "    # theta generation\n",
    "    mu, sigma = 0, 1 \n",
    "    theta = np.random.normal(mu, sigma, k)\n",
    "   \n",
    "    # x generation\n",
    "    mu2, sigma2 = 0, 2 \n",
    "    covariable = np.random.normal(mu2, sigma2, size=(n,k))\n",
    "    \n",
    "    # error generation\n",
    "    mu3, sigma3 = 0, math.sqrt(0.1) \n",
    "    error = np.random.normal(mu3, sigma3, n)\n",
    "    \n",
    "    # data generation (tall and thin matrix or short and fat matrix)\n",
    "    x=np.zeros(shape=(n,k))\n",
    "    y=np.zeros(shape=(n))\n",
    "    for i in range(n):\n",
    "        for j in range(k):\n",
    "            x[i,j] = covariable[i,j]\n",
    "\n",
    "    for i in range(n):\n",
    "        y[i]=np.dot(theta,np.transpose(covariable[i]) + error[i])\n",
    "    \n",
    "    # finding theta cap\n",
    "    q=np.dot(np.transpose(x),x)\n",
    "    r=np.dot(np.transpose(x),y)\n",
    "\n",
    "    det = np.linalg.det(q)\n",
    "    rank = int(np.linalg.matrix_rank(q))\n",
    "    \n",
    "    if rank < k:\n",
    "        for lamb in range(1,100):\n",
    "            x_axis.append(lamb)\n",
    "            print(\"ridge regression\")\n",
    "            b = (lamb)*(lamb)*(np.identity(k, dtype = float))\n",
    "            c=b+q\n",
    "            d=np.linalg.inv(c)\n",
    "            pred_theta=np.dot(d,r)\n",
    "            y_axis.append(np.linalg.norm(pred_theta-theta,2))\n",
    "            #print(pred_theta)\n",
    "    else:\n",
    "        print(\"normal regression\")\n",
    "        s=np.linalg.inv(q)\n",
    "        pred_theta=np.dot(s,r)\n",
    "        #print(pred_theta)\n",
    "    \n",
    "    \n",
    "\n",
    "\n"
   ]
  },
  {
   "cell_type": "code",
   "execution_count": 465,
   "id": "b6520ad6",
   "metadata": {},
   "outputs": [
    {
     "data": {
      "text/plain": [
       "[<matplotlib.lines.Line2D at 0x7fde2b39acf8>]"
      ]
     },
     "execution_count": 465,
     "metadata": {},
     "output_type": "execute_result"
    },
    {
     "data": {
      "image/png": "[encoded data removed]",
      "text/plain": [
       "<Figure size 432x288 with 1 Axes>"
      ]
     },
     "metadata": {
      "needs_background": "light"
     },
     "output_type": "display_data"
    }
   ],
   "source": [
    "plt.xlabel(\"Lambda Values\")\n",
    "plt.ylabel(\"L2 Norm\")\n",
    "plt.plot(x_axis,y_axis)"
   ]
  },
  {
   "cell_type": "code",
   "execution_count": null,
   "id": "f6b2af32",
   "metadata": {},
   "outputs": [],
   "source": []
  },
  {
   "cell_type": "code",
   "execution_count": null,
   "id": "6edbda82",
   "metadata": {},
   "outputs": [],
   "source": []
  }
 ],
 "metadata": {
  "kernelspec": {
   "display_name": "Python 3",
   "language": "python",
   "name": "python3"
  },
  "language_info": {
   "codemirror_mode": {
    "name": "ipython",
    "version": 3
   },
   "file_extension": ".py",
   "mimetype": "text/x-python",
   "name": "python",
   "nbconvert_exporter": "python",
   "pygments_lexer": "ipython3",
   "version": "3.6.13"
  }
 },
 "nbformat": 4,
 "nbformat_minor": 5
}
